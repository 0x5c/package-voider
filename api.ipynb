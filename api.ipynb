{
 "cells": [
  {
   "cell_type": "markdown",
   "metadata": {},
   "source": [
    "# Currently missing things (will need testing)\n",
    "- New packages (those would have a `File.status` of `created` iirc)\n",
    "- Renamed packages (those would be [I think] like the above but with a status of `renamed` on the link)\n",
    "- Deleted packages (I think that would be cleanly all templates that go `deleted`)"
   ]
  },
  {
   "cell_type": "code",
   "execution_count": 59,
   "metadata": {},
   "outputs": [],
   "source": [
    "import github\n",
    "from collections import defaultdict\n",
    "import pathlib"
   ]
  },
  {
   "cell_type": "code",
   "execution_count": 60,
   "metadata": {},
   "outputs": [],
   "source": [
    "with pathlib.Path(\"./tokenfile\").open() as tokenfile:\n",
    "    token = tokenfile.readline().strip()"
   ]
  },
  {
   "cell_type": "code",
   "execution_count": 69,
   "metadata": {},
   "outputs": [],
   "source": [
    "gh = github.Github(login_or_token=token)\n",
    "repo = gh.get_repo(\"void-linux/void-packages\")\n",
    "\n",
    "# the PR number goes here\n",
    "pr = repo.get_pull(36432)\n",
    "\n",
    "files = list(pr.get_files())"
   ]
  },
  {
   "cell_type": "code",
   "execution_count": 70,
   "metadata": {},
   "outputs": [],
   "source": [
    "def ischange(line: str):\n",
    "    return line.startswith((\"+\", \"-\"))\n",
    "def patch_changes(patch: str):\n",
    "    return list(filter(ischange, patch.splitlines()))"
   ]
  },
  {
   "cell_type": "code",
   "execution_count": 71,
   "metadata": {},
   "outputs": [
    {
     "name": "stdout",
     "output_type": "stream",
     "text": [
      "emacs-gtk2 ['deletion']\n",
      "emacs ['cleanup-fixups', 'cleanup-fixups', 'cleanup-fixups', 'cleanup-fixups', 'cleanup-fixups', 'cleanup-fixups', 'cleanup-fixups', 'cleanup-fixups', 'cleanup-fixups', 'cleanup-fixups', 'cleanup-fixups', 'cleanup-fixups', 'cleanup-fixups', 'cleanup-fixups', 'cleanup-fixups', 'cleanup-fixups', 'cleanup-fixups', 'cleanup-fixups', 'cleanup-fixups', 'cleanup-fixups']\n",
      "removed-packages ['cleanup-fixups']\n"
     ]
    },
    {
     "data": {
      "text/plain": [
       "['deletion',\n",
       " 'cleanup-fixups',\n",
       " 'cleanup-fixups',\n",
       " 'cleanup-fixups',\n",
       " 'cleanup-fixups',\n",
       " 'cleanup-fixups',\n",
       " 'cleanup-fixups',\n",
       " 'cleanup-fixups',\n",
       " 'cleanup-fixups',\n",
       " 'cleanup-fixups',\n",
       " 'cleanup-fixups',\n",
       " 'cleanup-fixups',\n",
       " 'cleanup-fixups',\n",
       " 'cleanup-fixups',\n",
       " 'cleanup-fixups',\n",
       " 'cleanup-fixups',\n",
       " 'cleanup-fixups',\n",
       " 'cleanup-fixups',\n",
       " 'cleanup-fixups',\n",
       " 'cleanup-fixups',\n",
       " 'cleanup-fixups',\n",
       " 'cleanup-fixups']"
      ]
     },
     "execution_count": 71,
     "metadata": {},
     "output_type": "execute_result"
    }
   ],
   "source": [
    "_labels = []\n",
    "_pkgs: dict[str, list] = defaultdict(lambda: list())\n",
    "for file in files:\n",
    "    fn = file.filename\n",
    "    if fn.startswith((\"xbps-src\", \"common/\", \"etc/\")):\n",
    "        if fn == \"common/shlibs\":\n",
    "            _labels += [\"shlibs\"]\n",
    "            continue\n",
    "        _labels += [\"xbps-src\"]\n",
    "        continue\n",
    "    if fn in (\"Manual.md\", \"README.md\", \"CONTRIBUTING.md\"):\n",
    "        _labels += [\"documentation\"]\n",
    "        continue\n",
    "    if fn.startswith((\"srcpkgs/\")):\n",
    "        fn = fn.removeprefix(\"srcpkgs/\")\n",
    "        fp = fn.split(\"/\")\n",
    "        pkg = fp[0]\n",
    "        if len(fp) >= 2:\n",
    "            # the file is in the package's directory\n",
    "            if fp[1] == \"template\":\n",
    "                match file.status:\n",
    "                    case \"added\":\n",
    "                        _pkgs[pkg] += [\"new-package\"]\n",
    "                    case \"removed\":\n",
    "                        _pkgs[pkg] += [\"deletion\"]\n",
    "                    case _:\n",
    "                        changes = patch_changes(file.patch)\n",
    "                        for chg in changes:\n",
    "                            if chg.startswith((\"-version=\", \"+version=\")):\n",
    "                                _pkgs[pkg] += [\"update\"]\n",
    "                                continue\n",
    "                            if chg.startswith((\"-revision=\", \"+revision=\")):\n",
    "                                _pkgs[pkg] += [\"revbump\"]\n",
    "                            else:\n",
    "                                _pkgs[pkg] += [\"cleanup-fixups\"]\n",
    "            else:\n",
    "                # the modified file is not the template\n",
    "                _pkgs[pkg] += [\"cleanup-fixups\"]\n",
    "        else:\n",
    "            # we have a symlink to a package\n",
    "            match file.status:\n",
    "                case \"added\":\n",
    "                    # Could be a pakcage being renamed or a new subpackage\n",
    "                    _pkgs[pkg] += [\"_link_new\"]\n",
    "                    target = patch_changes(file.patch)[0].removeprefix(\"+\")\n",
    "                    _pkgs[target] += [\"_target_new\"]\n",
    "                case \"removed\":\n",
    "                    _pkgs[pkg] += [\"deletion\"]\n",
    "\n",
    "# Give preference 'update', since an update strongly implies\n",
    "# a rev reset and cleanups/fixups for the new version\n",
    "for p, l in _pkgs.items():\n",
    "    print(p, l)  # TODO: REMOVE\n",
    "    if \"deletion\" in l and \"_link_new\" in l:\n",
    "        # If the package is a new link and TODO\n",
    "        _labels += [\"renamed\"]\n",
    "        continue\n",
    "    if \"new-package\" in l and \"_target_new\" in l:\n",
    "        # If the package both has a new template or is the target\n",
    "        # of a new symlink, it is the result of a rename operation\n",
    "        _labels += [\"renamed\"]\n",
    "        continue\n",
    "    if \"deletion\" in l:\n",
    "        # The package is GONE, TURNED TO ETERNAL DUST\n",
    "        _labels += [\"deletion\"]\n",
    "        continue\n",
    "    if \"new-package\" in l:\n",
    "        # If the package is new, any other info is noise\n",
    "        _labels += [\"new-package\"]\n",
    "        continue\n",
    "    if \"update\" in l:\n",
    "        # In the case of package update, we don't care if that package\n",
    "        # got minor change tab like revbump or cleanup-fixups\n",
    "        _labels += [\"update\"]\n",
    "        continue\n",
    "    # We only have revbump and/or cleanup-fixups\n",
    "    _labels += l\n",
    "_labels"
   ]
  },
  {
   "cell_type": "markdown",
   "metadata": {},
   "source": [
    "### The labels to apply to the PR\n",
    "The set deduplicates the lebels for us"
   ]
  },
  {
   "cell_type": "code",
   "execution_count": 72,
   "metadata": {},
   "outputs": [
    {
     "data": {
      "text/plain": [
       "{'cleanup-fixups', 'deletion'}"
      ]
     },
     "execution_count": 72,
     "metadata": {},
     "output_type": "execute_result"
    }
   ],
   "source": [
    "set(_labels)"
   ]
  }
 ],
 "metadata": {
  "interpreter": {
   "hash": "baa1295a33daaf6f125084b47c9b650d7ea0cfec353b73ed8ff015184f1fc137"
  },
  "kernelspec": {
   "display_name": "Python 3.10.3 ('venv': venv)",
   "language": "python",
   "name": "python3"
  },
  "language_info": {
   "codemirror_mode": {
    "name": "ipython",
    "version": 3
   },
   "file_extension": ".py",
   "mimetype": "text/x-python",
   "name": "python",
   "nbconvert_exporter": "python",
   "pygments_lexer": "ipython3",
   "version": "3.10.4"
  },
  "orig_nbformat": 4
 },
 "nbformat": 4,
 "nbformat_minor": 2
}
