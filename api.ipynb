{
 "cells": [
  {
   "cell_type": "markdown",
   "metadata": {},
   "source": [
    "# Currently missing things (will need testing)\n",
    "- New packages (those would have a `File.status` of `created` iirc)\n",
    "- Renamed packages (those would be [I think] like the above but with a status of `renamed` on the link)\n",
    "- Deleted packages (I think that would be cleanly all templates that go `deleted`)"
   ]
  },
  {
   "cell_type": "code",
   "execution_count": 113,
   "metadata": {},
   "outputs": [],
   "source": [
    "import github\n",
    "from collections import defaultdict\n",
    "import pathlib"
   ]
  },
  {
   "cell_type": "code",
   "execution_count": 114,
   "metadata": {},
   "outputs": [],
   "source": [
    "with pathlib.Path(\"./tokenfile\").open() as tokenfile:\n",
    "    token = tokenfile.readline().strip()"
   ]
  },
  {
   "cell_type": "code",
   "execution_count": 115,
   "metadata": {},
   "outputs": [],
   "source": [
    "gh = github.Github(login_or_token=token)\n",
    "repo = gh.get_repo(\"void-linux/void-packages\")\n",
    "\n",
    "# the PR number goes here\n",
    "pr = repo.get_pull(36376)\n",
    "\n",
    "files = list(pr.get_files())"
   ]
  },
  {
   "cell_type": "code",
   "execution_count": 116,
   "metadata": {},
   "outputs": [],
   "source": [
    "def ischange(line: str):\n",
    "    return line.startswith((\"+\", \"-\"))\n",
    "def patch_changes(patch: str):\n",
    "    return list(filter(ischange, patch.splitlines()))"
   ]
  },
  {
   "cell_type": "code",
   "execution_count": 117,
   "metadata": {},
   "outputs": [
    {
     "data": {
      "text/plain": [
       "['-version=15.0.3',\n",
       " '+version=15.1.0',\n",
       " '- 7c6a4d8e003cab1a46f86fdf43f8c49e4b9d6ce932961572476266ad9f351608',\n",
       " '- 629dd3cf957f7ef255e7dccc3286c5a3b54c0a6a7cde8b93b3a7fdc9dffc4cbd\"',\n",
       " '+ 4bb10d12681546fa129f9105706d6f55c346b75418a19793fb300f0bd4e5991d',\n",
       " '+ e05995a4b66592d5868b7e667bba8a5f1822499fc53c6cd7a8abf3e40f8b8895\"']"
      ]
     },
     "execution_count": 117,
     "metadata": {},
     "output_type": "execute_result"
    }
   ],
   "source": [
    "patch_changes(files[0].patch)"
   ]
  },
  {
   "cell_type": "code",
   "execution_count": 118,
   "metadata": {},
   "outputs": [
    {
     "data": {
      "text/plain": [
       "['update']"
      ]
     },
     "execution_count": 118,
     "metadata": {},
     "output_type": "execute_result"
    }
   ],
   "source": [
    "_labels = []\n",
    "_pkgs: dict[str, list] = defaultdict(lambda: list())\n",
    "for file in files:\n",
    "    fn = file.filename\n",
    "    if fn.startswith((\"xbps-src\", \"common/\", \"etc/\")):\n",
    "        _labels += [\"xbps-src\"]\n",
    "        continue\n",
    "    if fn in (\"Manual.md\", \"README.md\", \"CONTRIBUTING.md\"):\n",
    "        _labels += [\"documentation\"]\n",
    "        continue\n",
    "    if fn.startswith((\"srcpkgs/\")):\n",
    "        # TODO: DEAL WITH NEW PACKAGES\n",
    "        fn = fn.removeprefix(\"srcpkgs/\")\n",
    "        fp = fn.split(\"/\")\n",
    "        pkg = fp[0]\n",
    "        if len(fp) >= 2 and (fp[1] == \"template\"):\n",
    "            changes = patch_changes(file.patch)\n",
    "            for chg in changes:\n",
    "                if chg.startswith((\"-version=\", \"+version=\")):\n",
    "                    _pkgs[pkg] += [\"update\"]\n",
    "                    continue\n",
    "                if chg.startswith((\"-revision=\", \"+revision=\")):\n",
    "                    _pkgs[pkg] += [\"revbump\"]\n",
    "                else:\n",
    "                    _pkgs[pkg] += [\"cleanup-fixups\"]\n",
    "        else:\n",
    "            _pkgs[pkg] += [\"cleanup-fixups\"]\n",
    "\n",
    "# Give preference 'update', since an update strongly implies\n",
    "# a rev reset and cleanups/fixups for compilation\n",
    "for p, l in _pkgs.items():\n",
    "    if \"update\" in l:\n",
    "        _labels += [\"update\"]\n",
    "    else:\n",
    "        _labels += l\n",
    "_labels"
   ]
  },
  {
   "cell_type": "markdown",
   "metadata": {},
   "source": [
    "### The labels to apply to the PR\n",
    "The set deduplicates the lebels for us"
   ]
  },
  {
   "cell_type": "code",
   "execution_count": 119,
   "metadata": {},
   "outputs": [
    {
     "data": {
      "text/plain": [
       "{'update'}"
      ]
     },
     "execution_count": 119,
     "metadata": {},
     "output_type": "execute_result"
    }
   ],
   "source": [
    "set(_labels)"
   ]
  },
  {
   "cell_type": "markdown",
   "metadata": {},
   "source": []
  }
 ],
 "metadata": {
  "interpreter": {
   "hash": "baa1295a33daaf6f125084b47c9b650d7ea0cfec353b73ed8ff015184f1fc137"
  },
  "kernelspec": {
   "display_name": "Python 3.10.3 ('venv': venv)",
   "language": "python",
   "name": "python3"
  },
  "language_info": {
   "codemirror_mode": {
    "name": "ipython",
    "version": 3
   },
   "file_extension": ".py",
   "mimetype": "text/x-python",
   "name": "python",
   "nbconvert_exporter": "python",
   "pygments_lexer": "ipython3",
   "version": "3.10.3"
  },
  "orig_nbformat": 4
 },
 "nbformat": 4,
 "nbformat_minor": 2
}
